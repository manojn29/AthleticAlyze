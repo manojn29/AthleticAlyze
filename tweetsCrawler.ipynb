{
 "cells": [
  {
   "cell_type": "code",
   "execution_count": 3,
   "metadata": {},
   "outputs": [
    {
     "name": "stdout",
     "output_type": "stream",
     "text": [
      "Length of tweets:  0\n"
     ]
    }
   ],
   "source": [
    "import tweepy\n",
    "import csv, os\n",
    "import threading, random\n",
    "\n",
    "consumer_key = \"q3blJuqJFVGoOO7rmHtxZ7iDn\"\n",
    "consumer_secret = \"Acb13qxZhoYE3TiDIPCjTl45K5WtPEOvrIZMn5N1kPnYO9oygd\"\n",
    "access_token = \"1254426768-RnM84QjNRYsNPoXg6zXEeZ15EIfM81KTgILOkYi\"\n",
    "access_token_secret = \"OEzxmseox9a3sSMrp94KAWL9Xxs8ASy3R9DRqeaQSxnZH\"\n",
    "\n",
    "tweetsPerQry = 12000\n",
    "maxTweets = 100000\n",
    "hashtag = \"SerieA,LaLiga,NFLDraft,NCAABasketball,ATP,WWE,USOpen,RugbyWorldCup\"\n",
    "\n",
    "authentication = tweepy.OAuthHandler(consumer_key, consumer_secret)\n",
    "authentication.set_access_token(access_token, access_token_secret)\n",
    "api = tweepy.API(authentication, wait_on_rate_limit=True)\n",
    "maxId = -1\n",
    "tweetCount = 0\n",
    "\n",
    "tweetIds = set()\n",
    "\n",
    "def writeTweets(filename, tag):\n",
    "  global tweetCount, maxId, tweetIds\n",
    "  fileExists = os.path.exists(filename)\n",
    "\n",
    "  if fileExists:\n",
    "    with open(filename, 'r', newline='') as file:\n",
    "      reader = csv.reader(file)\n",
    "      next(reader, None)\n",
    "      for row in reader:\n",
    "        tweetIds.add(str(row[0]))\n",
    "  with open(filename, 'a', newline='', encoding='utf8') as csvFile:\n",
    "    fieldNames = ['id', 'tweet', 'time', 'lat', 'long', 'screen_name']\n",
    "    writer = csv.DictWriter(csvFile, fieldnames=fieldNames)\n",
    "    if not fileExists:\n",
    "        writer.writeheader()\n",
    "    while tweetCount < maxTweets:\n",
    "      if tweetCount % 10 == 0:\n",
    "        print(\"Count:\", tweetCount)\n",
    "      if(maxId <= 0):\n",
    "        # newTweets = api.search(q=hashtag, count=tweetsPerQry, result_type=\"recent\", tweet_mode=\"extended\")\n",
    "        newTweets = api.search_tweets(q=tag, count=tweetsPerQry, result_type=\"recent\", tweet_mode=\"extended\")\n",
    "      else:\n",
    "        newTweets = api.search_tweets(q=tag, count=tweetsPerQry, max_id=str(maxId - 1), result_type=\"recent\", tweet_mode=\"extended\")\n",
    "      \n",
    "      # if not newTweets:\n",
    "      #   print(\"Tweet Habis\")\n",
    "      #   break\n",
    "      \n",
    "      for tweet in newTweets:\n",
    "        # if str(tweet.id) not in tweetIds and (tweet.coordinates or tweet.user.location):\n",
    "        if str(tweet.id) not in tweetIds:\n",
    "          lat = random.uniform(24.396308, 49.384358)\n",
    "          long = random.uniform(-124.848974, -66.885444)\n",
    "          tweetIds.add(tweet.id)\n",
    "          writer.writerow({'id': tweet.id, 'tweet': tweet.full_text.encode(encoding='utf8'), 'time': tweet.created_at, 'lat': lat, 'long': long, 'screen_name': tweet.user.screen_name})\n",
    "          # print(\"id:\", tweet.id, \"tweet:\", tweet.full_text.encode(encoding='utf8'), \"time:\", tweet.created_at, \"geo:\", tweet.user.location, \"enabled:\", tweet.user.geo_enabled)\n",
    "        \n",
    "      tweetCount += len(newTweets)\n",
    "      maxId = newTweets[-1].id\n",
    "print(\"Length of tweets: \", len(tweetIds))\n",
    "\n",
    "threads = []\n",
    "tags = hashtag.split(',')\n",
    "for i in range(8):\n",
    "  filename = \"twitterSportsData\" + str(i) + '.csv'\n",
    "  t = threading.Thread(target=writeTweets, args = (filename,tags[i],))\n",
    "  threads.append(t)\n",
    "  t.start()\n",
    "\n",
    "for t in threads:\n",
    "  t.join()"
   ]
  },
  {
   "cell_type": "code",
   "execution_count": null,
   "metadata": {},
   "outputs": [],
   "source": []
  }
 ],
 "metadata": {
  "kernelspec": {
   "display_name": "Python 3",
   "language": "python",
   "name": "python3"
  },
  "language_info": {
   "codemirror_mode": {
    "name": "ipython",
    "version": 3
   },
   "file_extension": ".py",
   "mimetype": "text/x-python",
   "name": "python",
   "nbconvert_exporter": "python",
   "pygments_lexer": "ipython3",
   "version": "3.11.0"
  },
  "orig_nbformat": 4,
  "vscode": {
   "interpreter": {
    "hash": "5238573367df39f7286bb46f9ff5f08f63a01a80960060ce41e3c79b190280fa"
   }
  }
 },
 "nbformat": 4,
 "nbformat_minor": 2
}
