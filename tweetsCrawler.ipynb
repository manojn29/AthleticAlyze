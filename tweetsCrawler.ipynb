{
 "cells": [
  {
   "cell_type": "code",
   "execution_count": 37,
   "metadata": {},
   "outputs": [],
   "source": [
    "import tweepy\n",
    "import csv, os\n",
    "\n",
    "consumer_key = \"dzWU0xpaa0ozfAJ7az6svz4Jd\"\n",
    "consumer_secret = \"YbVTtM6jP1zeG8Lrqfg9bEsljJATlhxgIM3oXmdhpJHjoL936Y\"\n",
    "access_token = \"1254426768-5k6hYRH6SCyKbGFYbWrbYdEHeqjfj4th6KdSSML\"\n",
    "access_token_secret = \"3q12iB4nlfsLnNj9JxTZXqx0eoojcP8fQaGcS5TDnIiOf\"\n",
    "\n",
    "tweetsPerQry = 10\n",
    "maxTweets = 10\n",
    "hashtag = \"FIFA23 OR fifa OR football OR soccer OR fut OR futbol OR messi OR CR7 OR CristianoRonaldo\"\n",
    "\n",
    "authentication = tweepy.OAuthHandler(consumer_key, consumer_secret)\n",
    "authentication.set_access_token(access_token, access_token_secret)\n",
    "api = tweepy.API(authentication, wait_on_rate_limit=True)\n",
    "maxId = -1\n",
    "tweetCount = 0\n",
    "\n",
    "tweetIds = set()\n",
    "fileExists = os.path.exists('twitterSportsData.csv')\n",
    "\n",
    "with open(\"twitterSportsData.csv\", 'a', newline='', encoding='utf8') as csvFile:\n",
    "  fieldNames = ['id', 'tweet', 'time', 'geo', 'enabled']\n",
    "  writer = csv.DictWriter(csvFile, fieldnames=fieldNames)\n",
    "  if not fileExists:\n",
    "    writer.writeheader()\n",
    "  while tweetCount < maxTweets:\n",
    "    if(maxId <= 0):\n",
    "      # newTweets = api.search(q=hashtag, count=tweetsPerQry, result_type=\"recent\", tweet_mode=\"extended\")\n",
    "      newTweets = api.search_tweets(q=hashtag, count=tweetsPerQry, result_type=\"recent\", tweet_mode=\"extended\")\n",
    "    else:\n",
    "      newTweets = api.search_tweets(q=hashtag, count=tweetsPerQry, max_id=str(maxId - 1), result_type=\"recent\", tweet_mode=\"extended\")\n",
    "    \n",
    "    if not newTweets:\n",
    "      print(\"Tweet Habis\")\n",
    "      break\n",
    "    \n",
    "    for tweet in newTweets:\n",
    "      # print(tweet.full_text.encode(encoding='utf-8'))\n",
    "      if str(tweet.id) not in tweetIds and (tweet.coordinates or tweet.user.location):\n",
    "        tweetIds.add(tweet.id)\n",
    "        writer.writerow({'id': tweet.id, 'tweet': tweet.full_text.encode(encoding='utf8'), 'time': tweet.created_at, 'geo': tweet.user.location.encode(encoding='utf8'), 'enabled': tweet.user.geo_enabled})\n",
    "        # print(\"id:\", tweet.id, \"tweet:\", tweet.full_text.encode(encoding='utf8'), \"time:\", tweet.created_at, \"geo:\", tweet.user.location, \"enabled:\", tweet.user.geo_enabled)\n",
    "      \n",
    "    tweetCount += len(newTweets)\n",
    "    maxId = newTweets[-1].id"
   ]
  },
  {
   "cell_type": "code",
   "execution_count": null,
   "metadata": {},
   "outputs": [],
   "source": []
  }
 ],
 "metadata": {
  "kernelspec": {
   "display_name": "Python 3",
   "language": "python",
   "name": "python3"
  },
  "language_info": {
   "codemirror_mode": {
    "name": "ipython",
    "version": 3
   },
   "file_extension": ".py",
   "mimetype": "text/x-python",
   "name": "python",
   "nbconvert_exporter": "python",
   "pygments_lexer": "ipython3",
   "version": "3.7.9 (tags/v3.7.9:13c94747c7, Aug 17 2020, 16:30:00) [MSC v.1900 64 bit (AMD64)]"
  },
  "orig_nbformat": 4,
  "vscode": {
   "interpreter": {
    "hash": "d1a6dc045fad8e521d8162989fccd257812e908a0cedf189f97eca95d02c1612"
   }
  }
 },
 "nbformat": 4,
 "nbformat_minor": 2
}
