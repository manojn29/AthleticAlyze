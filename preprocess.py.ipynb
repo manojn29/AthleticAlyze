{
 "cells": [
  {
   "cell_type": "code",
   "execution_count": 2,
   "metadata": {},
   "outputs": [
    {
     "name": "stderr",
     "output_type": "stream",
     "text": [
      "C:\\Users\\sanja\\Anaconda3\\lib\\site-packages\\IPython\\core\\interactiveshell.py:3326: DtypeWarning: Columns (0,3,4) have mixed types.Specify dtype option on import or set low_memory=False.\n",
      "  exec(code_obj, self.user_global_ns, self.user_ns)\n"
     ]
    },
    {
     "name": "stdout",
     "output_type": "stream",
     "text": [
      "(1942570, 6)\n"
     ]
    }
   ],
   "source": [
    "import pandas as pd\n",
    "import codecs\n",
    "import re\n",
    "#add path\n",
    "data = pd.read_csv(\"C:/Users/sanja/Desktop/Quarter Material/Winter Quarter/INFO/final_ALL.csv\", encoding='utf-8')\n",
    "data[\"tweet\"] = data[\"tweet\"].str.replace(\"RT\", \"\", regex=True)\n",
    "print(data.shape)\n",
    "\n",
    "\n",
    "data['tweet'] = data['tweet'].str.encode('utf-8').str.decode('unicode_escape')\n",
    "\n",
    "\n"
   ]
  },
  {
   "cell_type": "code",
   "execution_count": 3,
   "metadata": {},
   "outputs": [],
   "source": [
    "def remove_non_ascii(text):\n",
    "    text = re.sub(r'http\\S+','', text)\n",
    "    text = re.sub(r'[^\\x00-\\x7F]+','', text)\n",
    "    return text\n",
    "\n",
    "data['tweet'] = data['tweet'].apply(remove_non_ascii)\n",
    "data['tweet'] = data['tweet'].str.replace('\\n','',regex = True)\n",
    "data[\"tweet\"] = data[\"tweet\"].str.replace(\"b'\",\"\",regex = True)\n",
    "data[\"tweet\"] = data[\"tweet\"].str.replace('b\"',\"\",regex = True)\n",
    "data['tweet'] = data['tweet'].apply(lambda x: x.rstrip('\"') if x.endswith('\"') else x)\n",
    "data['tweet'] = data['tweet'].apply(lambda x: x.rstrip(\"'\") if x.endswith(\"'\") else x)\n"
   ]
  },
  {
   "cell_type": "code",
   "execution_count": 16,
   "metadata": {},
   "outputs": [],
   "source": [
    "data.to_csv(\"C:/Users/sanja/Desktop/Quarter Material/Winter Quarter/INFO/datas/final_preprocessed_data.csv\",index = False)"
   ]
  }
 ],
 "metadata": {
  "kernelspec": {
   "display_name": "Python 3",
   "language": "python",
   "name": "python3"
  },
  "language_info": {
   "codemirror_mode": {
    "name": "ipython",
    "version": 3
   },
   "file_extension": ".py",
   "mimetype": "text/x-python",
   "name": "python",
   "nbconvert_exporter": "python",
   "pygments_lexer": "ipython3",
   "version": "3.7.4"
  }
 },
 "nbformat": 4,
 "nbformat_minor": 2
}
