{
 "cells": [
  {
   "cell_type": "code",
   "execution_count": null,
   "metadata": {},
   "outputs": [],
   "source": [
    "# To remove duplicates\n",
    "import pandas as pd\n",
    "file_name_output = \"Dir0/final.csv\"\n",
    "file_name = \"Dir0/combined_csv.csv\"\n",
    "df = pd.read_csv(file_name, sep=\",\")\n",
    "df.drop_duplicates('id', keep = 'last', inplace=True)\n",
    "df.to_csv(file_name_output, index=False)"
   ]
  },
  {
   "cell_type": "code",
   "execution_count": null,
   "metadata": {},
   "outputs": [],
   "source": [
    "# To combine csv files\n",
    "import pandas as pd\n",
    "extension = 'csv'\n",
    "import os, glob\n",
    "all_filenames = [i for i in glob.glob('*.{}'.format(extension))]\n",
    "combined_csv = pd.concat([pd.read_csv(f) for f in all_filenames ])\n",
    "combined_csv.to_csv( \"combined_csv.csv\", index=False, encoding='utf-8-sig')"
   ]
  },
  {
   "cell_type": "code",
   "execution_count": null,
   "metadata": {},
   "outputs": [],
   "source": [
    "# To add hashtags to each column\n",
    "import pandas as pd \n",
    "import csv \n",
    "import re\n",
    "df = pd.read_csv(\"C:/Users/sanja/Desktop/Quarter Material/Winter Quarter/INFO/data/combined_dup_drop_1_csv.csv\")  \n",
    "\n",
    "hashtag_list = []\n",
    "\n",
    "df = df.dropna(how='all').dropna(how='all', axis=1)\n",
    "\n",
    "tweets = df.loc[:, ['tweet']]\n",
    "\n",
    "count = -1\n",
    "tweets = df['tweet'].tolist()\n",
    "\n",
    "for tweet in tweets:\n",
    "  count += 1\n",
    "  val = ''\n",
    "  for word in tweet.split(\" \"):\n",
    "    m = re.search(\"(#[a-z|A-Z|0-9]*)\", word)\n",
    "    if m:\n",
    "      hashtag_list.append(m.group(1))\n",
    "\n",
    "  val = ' '.join(map(str, hashtag_list))\n",
    "  df.loc[count, 'hashtag'] = val\n",
    "  df.head()  \n",
    "  hashtag_list = []\n",
    "\n",
    "\n",
    "#print(df)\n",
    "df.to_csv('formatted_csv.csv')"
   ]
  }
 ],
 "metadata": {
  "kernelspec": {
   "display_name": "Python 3",
   "language": "python",
   "name": "python3"
  },
  "language_info": {
   "name": "python",
   "version": "3.7.9"
  },
  "orig_nbformat": 4,
  "vscode": {
   "interpreter": {
    "hash": "d1a6dc045fad8e521d8162989fccd257812e908a0cedf189f97eca95d02c1612"
   }
  }
 },
 "nbformat": 4,
 "nbformat_minor": 2
}
