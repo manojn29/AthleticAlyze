{
 "cells": [
  {
   "attachments": {},
   "cell_type": "markdown",
   "metadata": {},
   "source": [
    "Duplicate removal:"
   ]
  },
  {
   "cell_type": "code",
   "execution_count": null,
   "metadata": {},
   "outputs": [],
   "source": [
    "import pandas as pd\n",
    "file_name_output = \"my_file_without_dupes.csv\"\n",
    "file_name = \"combined_csv.csv\"\n",
    "df = pd.read_csv(file_name, sep=\",\")\n",
    "df.drop_duplicates('tweet', keep = 'last')\n",
    "df.to_csv(file_name_output, index=False)"
   ]
  },
  {
   "attachments": {},
   "cell_type": "markdown",
   "metadata": {},
   "source": [
    "2 Hashtag addition"
   ]
  },
  {
   "cell_type": "code",
   "execution_count": null,
   "metadata": {},
   "outputs": [],
   "source": [
    "import pandas as pd \n",
    "import csv \n",
    "import re\n",
    "df = pd.read_csv(\"C:/Users/sanja/Desktop/Quarter Material/Winter Quarter/INFO/data/combined_dup_drop_1_csv.csv\")  \n",
    "\n",
    "hashtag_list = []\n",
    "\n",
    "df = df.dropna(how='all').dropna(how='all', axis=1)\n",
    "\n",
    "tweets = df.loc[:, ['tweet']]\n",
    "\n",
    "count = -1\n",
    "tweets = df['tweet'].tolist()\n",
    "\n",
    "for tweet in tweets:\n",
    "  count += 1\n",
    "  val = ''\n",
    "  for word in tweet.split(\" \"):\n",
    "    m = re.search(\"(#[a-z|A-Z|0-9]*)\", word)\n",
    "    if m:\n",
    "      hashtag_list.append(m.group(1))\n",
    "\n",
    "  val = ' '.join(map(str, hashtag_list))\n",
    "  df.loc[count, 'hashtag'] = val\n",
    "  df.head()  \n",
    "  hashtag_list = []\n",
    "\n",
    "\n",
    "#print(df)\n",
    "df.to_csv('formatted_csv.csv')"
   ]
  }
 ],
 "metadata": {
  "kernelspec": {
   "display_name": "Python 3",
   "language": "python",
   "name": "python3"
  },
  "language_info": {
   "codemirror_mode": {
    "name": "ipython",
    "version": 3
   },
   "file_extension": ".py",
   "mimetype": "text/x-python",
   "name": "python",
   "nbconvert_exporter": "python",
   "pygments_lexer": "ipython3",
   "version": "3.11.0"
  },
  "orig_nbformat": 4,
  "vscode": {
   "interpreter": {
    "hash": "5238573367df39f7286bb46f9ff5f08f63a01a80960060ce41e3c79b190280fa"
   }
  }
 },
 "nbformat": 4,
 "nbformat_minor": 2
}
